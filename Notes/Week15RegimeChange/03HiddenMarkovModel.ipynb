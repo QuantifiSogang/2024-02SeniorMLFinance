{
 "cells": [
  {
   "metadata": {},
   "cell_type": "markdown",
   "source": [
    "## Hidden Markov Modeling\n",
    "\n",
    "Hidden Markov Modeling은 관측 시퀀스에 대한 분포를 표현하는 확률적 모델이다. HMM은 가장 단순한 동적 베이지안 네트워크이고, 금융을 포함한 많은 응용 분야에서 강력한 모델임이 입증되었다. HMM은 확률적 모델링의 중요한 아이디어를 함축하고 있으므로 여기서 간단히 살펴본다. 특히 이들은 은닉 변수와 전환(switching)을 이해하는 데 통찰력을 제공한다. 이미 우리는 GRU, LSTM, RNN과 같은 gating을 사용하는 Neural Network 모형에 대해 다룬 적 있다. 그러나 이 모델들은 암묵적인 모델링 단계이므로, 금융의 국면 전환에 필요한 만큼 명시적으로 제어할 수 없다.\n",
    "\n",
    "이제 시점 $t$에 이산 상태 $s_t$가 관측자에게 보이지 않는다고 가정하자. 더 나아가 hidden state는 Markov Process라고 가정한다. 이 설정은 은닉 변수가 iid라고 가정하는 혼합 모델(mixture model)과 다르다. 시점 $t$ 관측치 $y_t$는 다른 모든 시점의 상태와 독립이라고 가정한다. Markov 특성에 의해 state sequence $\\mathbf{s} := \\{s_t\\}_{i=1}^T$와 관측 시퀀스 $\\mathbf{y} = \\{y_t\\}_{t=1}^T$의 결합 확률은 전이 확률 밀도 $p(s_t | s_{t-1})$의 곱으로 구할 수 있다.\n",
    "\n",
    "$$p(\\mathbf{s,y}) = p(s_1)p(y_1|s_1) \\prod_{t=2}^{T} p(s_t | s_{t-1})p(y_t|s_t)$$\n",
    "\n",
    "아래의 그림은 HMM에서 관측 변수와 은닉 변수 간의 조건부 의존 관계를 표현하는 Bayesian Network를 보여준다. 조건부 의존 관계는 부모 노드 $Y_t$와 자식 노트 $S_t$간의 그래프의 에지를 정의한다.\n",
    "\n",
    "우선 모든 상태 $s_t \\in \\{1, \\dots, K\\}$와 모든 시점에 대해 소위 전방과 후방 확률을 각각 도입한다.\n",
    "\n",
    "$$F_t(s) := \\mathbb{P}(s_t = \\mathbf{s, y}_{1:t}), B_t(\\mathbf{s}) := p(\\mathbf{y}_{t+1:T} | s_t = s)$$\n",
    "\n",
    "여기서 관행에 따라 $B_T(s) = 1$이다. 모든 $t \\in \\{1,\\dots, T\\}$와 모든 $r,s \\in \\{1, \\dots, K\\}$에 대해 다음을 얻는다.\n",
    "\n",
    "$$\\mathbf{P}(s_t = s, \\mathbf{y}) = F_t(s)B_t(s)$$\n",
    "\n",
    "그리고 전방과 후방 확률을 결합하면 다음을 산출할 수 있다.\n",
    "\n",
    "$$\\mathbb{P}(s_{t-1} = r, s_t = s, \\mathbf{y}) = F_{t-1}(r)\\mathbb{P}(s_t = s | s_{t-1} = r)p(y_t | s_t = s)B_t(s)$$"
   ],
   "id": "bf4b6f5e4145250d"
  },
  {
   "cell_type": "code",
   "execution_count": null,
   "id": "initial_id",
   "metadata": {
    "collapsed": true
   },
   "outputs": [],
   "source": [
    ""
   ]
  }
 ],
 "metadata": {
  "kernelspec": {
   "display_name": "Python 3",
   "language": "python",
   "name": "python3"
  },
  "language_info": {
   "codemirror_mode": {
    "name": "ipython",
    "version": 2
   },
   "file_extension": ".py",
   "mimetype": "text/x-python",
   "name": "python",
   "nbconvert_exporter": "python",
   "pygments_lexer": "ipython2",
   "version": "2.7.6"
  }
 },
 "nbformat": 4,
 "nbformat_minor": 5
}
