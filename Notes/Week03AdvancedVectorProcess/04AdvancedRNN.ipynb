{
 "cells": [
  {
   "metadata": {},
   "cell_type": "markdown",
   "source": [
    "## Advanced Recurrent Neural Networks\n",
    "\n",
    "$\\text{RNN}$이 동적 시계열 모델에의 확장은 시계열 분석의 근본 개념을 확장하는 것에 의존한다. 우선 hidden states $\\hat{h}_t$를 가진 평활화된 $\\text{RNN}$을 고려한다. 이와 같은 $\\text{RNN}$은 기본 $\\text{RNN}$과 거의 동일하다. 그러나 network에 long memory를 제공하는 추가적인 scalar smoothing parameter $\\alpha$를 가진다."
   ],
   "id": "f5dccd43988127f7"
  },
  {
   "metadata": {
    "ExecuteTime": {
     "end_time": "2024-09-15T07:25:20.220604Z",
     "start_time": "2024-09-15T07:25:16.556646Z"
    }
   },
   "cell_type": "code",
   "source": [
    "import numpy as np\n",
    "import pandas as pd\n",
    "import matplotlib.pyplot as plt\n",
    "import seaborn as sns\n",
    "import yfinance as yf\n",
    "\n",
    "START = '1960-01-01'\n",
    "TICKER = '^GSPC' # S&P500 Index\n",
    "\n",
    "data = yf.download(\n",
    "    TICKER,\n",
    "    start = START,\n",
    "    progress = False,\n",
    "    interval = '1wk'\n",
    ")"
   ],
   "id": "5893b5d8ec18d7ff",
   "outputs": [],
   "execution_count": 1
  },
  {
   "metadata": {
    "ExecuteTime": {
     "end_time": "2024-09-15T07:25:20.225776Z",
     "start_time": "2024-09-15T07:25:20.221592Z"
    }
   },
   "cell_type": "code",
   "source": "returns = data['Close'].pct_change(1).dropna()",
   "id": "3bd1a2e1f5c89663",
   "outputs": [],
   "execution_count": 2
  },
  {
   "metadata": {},
   "cell_type": "markdown",
   "source": "### 1. $\\alpha$ RNN",
   "id": "a283b0fc3e7ca988"
  },
  {
   "cell_type": "code",
   "execution_count": null,
   "id": "initial_id",
   "metadata": {
    "collapsed": true
   },
   "outputs": [],
   "source": [
    ""
   ]
  },
  {
   "metadata": {},
   "cell_type": "markdown",
   "source": "",
   "id": "fe9161a35deeb213"
  },
  {
   "metadata": {},
   "cell_type": "markdown",
   "source": [
    "### 2. Dynamic $\\alpha_t$ RNN\n",
    "\n",
    "동적 지수 평활화는 평활화된 출력 $\\tilde{y}_t$와 관측치 $y_t$의 시간 의존적 블록 결합이다.\n",
    "\n",
    "$$\\tilde{y}_{t+1} = \\alpha_t y_t + (1 - \\alpha_t)\\tilde{y}_t$$\n",
    "\n",
    "여기서 $\\alpha_t \\in [0,1]$은 시간에 따라 변화하는 평활화 계수를 의미하며, 이는 동일하게 1step ahead forecast 형태로 표현될 수 있다.\n",
    "\n",
    "$$\\tilde{y}_{t+1} = \\tilde{y}_t + \\alpha_t(y_t - \\tilde{y}_t)$$\n",
    "\n",
    "따라서 $\\alpha_t$RNN은 Dynamic Forecast Error Correction Model의 일반화된 형태로 볼 수 있다. $\\alpha_t = 0$인 경우 예측 오차는 무시되고, 평활화만 편재의 은닉 상태를 반복해 모델의 memory를 잃는 효과를 가진다. $\\alpha_t = 1$인 경우에는 예측 오차가 현재의 은닉 상태 $\\tilde{h}_t$를 완전히 대체한다."
   ],
   "id": "8ff7ec4e1cc732a4"
  },
  {
   "metadata": {},
   "cell_type": "code",
   "outputs": [],
   "execution_count": null,
   "source": "",
   "id": "5b9da83cac204307"
  },
  {
   "metadata": {},
   "cell_type": "markdown",
   "source": "### 3. Gated Recurrent Unit",
   "id": "f08e38f2e30a6188"
  },
  {
   "metadata": {},
   "cell_type": "code",
   "outputs": [],
   "execution_count": null,
   "source": "",
   "id": "fa4a1d7c267c6d2"
  },
  {
   "metadata": {},
   "cell_type": "markdown",
   "source": "### 4. LSTM",
   "id": "f738772bc660eb3f"
  },
  {
   "metadata": {},
   "cell_type": "code",
   "outputs": [],
   "execution_count": null,
   "source": "",
   "id": "117f558300179167"
  }
 ],
 "metadata": {
  "kernelspec": {
   "display_name": "Python 3",
   "language": "python",
   "name": "python3"
  },
  "language_info": {
   "codemirror_mode": {
    "name": "ipython",
    "version": 2
   },
   "file_extension": ".py",
   "mimetype": "text/x-python",
   "name": "python",
   "nbconvert_exporter": "python",
   "pygments_lexer": "ipython2",
   "version": "2.7.6"
  }
 },
 "nbformat": 4,
 "nbformat_minor": 5
}
