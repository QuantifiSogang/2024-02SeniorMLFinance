{
 "cells": [
  {
   "metadata": {},
   "cell_type": "markdown",
   "source": "## Mean-Volatility Modeling",
   "id": "b9a8d9665eb592ea"
  },
  {
   "cell_type": "code",
   "execution_count": null,
   "id": "initial_id",
   "metadata": {
    "collapsed": true
   },
   "outputs": [],
   "source": [
    ""
   ]
  },
  {
   "metadata": {},
   "cell_type": "markdown",
   "source": "### 1. AR-GARCH Model",
   "id": "90773f1884a03578"
  },
  {
   "metadata": {},
   "cell_type": "code",
   "outputs": [],
   "execution_count": null,
   "source": "",
   "id": "caa8876fcef1bfc2"
  },
  {
   "metadata": {},
   "cell_type": "markdown",
   "source": "### 2. ARMA-GARCH Model",
   "id": "97b4c65e3d93bc70"
  },
  {
   "metadata": {},
   "cell_type": "code",
   "outputs": [],
   "execution_count": null,
   "source": "",
   "id": "5489dd4242e3fb5a"
  },
  {
   "metadata": {},
   "cell_type": "markdown",
   "source": "### 3. Fractional Integrated GARCH",
   "id": "fd19f688cee91a5b"
  },
  {
   "metadata": {},
   "cell_type": "code",
   "outputs": [],
   "execution_count": null,
   "source": "",
   "id": "45c7cdd72de7d31d"
  },
  {
   "metadata": {},
   "cell_type": "markdown",
   "source": "#### 3-1. ARMA-FIGARCH",
   "id": "e75cab36009749d5"
  },
  {
   "metadata": {},
   "cell_type": "code",
   "outputs": [],
   "execution_count": null,
   "source": "",
   "id": "4a798395486ffe97"
  },
  {
   "metadata": {},
   "cell_type": "markdown",
   "source": "#### 3-2. ARFIMA-FIGARCH",
   "id": "1496c57a3de92848"
  },
  {
   "metadata": {},
   "cell_type": "code",
   "outputs": [],
   "execution_count": null,
   "source": "",
   "id": "a42dbb9a37c5a749"
  }
 ],
 "metadata": {
  "kernelspec": {
   "display_name": "Python 3",
   "language": "python",
   "name": "python3"
  },
  "language_info": {
   "codemirror_mode": {
    "name": "ipython",
    "version": 2
   },
   "file_extension": ".py",
   "mimetype": "text/x-python",
   "name": "python",
   "nbconvert_exporter": "python",
   "pygments_lexer": "ipython2",
   "version": "2.7.6"
  }
 },
 "nbformat": 4,
 "nbformat_minor": 5
}
