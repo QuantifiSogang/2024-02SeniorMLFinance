{
 "cells": [
  {
   "metadata": {},
   "cell_type": "markdown",
   "source": "## Hybrid Neural-Net GARCH Models",
   "id": "d5b76f1c9ebd1239"
  },
  {
   "metadata": {
    "ExecuteTime": {
     "end_time": "2024-09-22T15:10:56.127768Z",
     "start_time": "2024-09-22T15:10:56.112749Z"
    }
   },
   "cell_type": "code",
   "source": [
    "import torch\n",
    "import torch.nn as nn\n",
    "import torch.optim as optim\n",
    "import random\n",
    "import numpy as np\n",
    "import pandas as pd\n",
    "\n",
    "random.seed(42)\n",
    "np.random.seed(42)\n",
    "torch.manual_seed(42)\n",
    "if torch.cuda.is_available():\n",
    "    torch.cuda.manual_seed(42)\n",
    "    torch.cuda.manual_seed_all(42) \n",
    "\n",
    "torch.backends.cudnn.deterministic = True\n",
    "torch.backends.cudnn.benchmark = False\n",
    "torch.use_deterministic_algorithms(True)"
   ],
   "id": "8526343d5c4190a2",
   "outputs": [],
   "execution_count": 170
  },
  {
   "cell_type": "code",
   "id": "initial_id",
   "metadata": {
    "collapsed": true,
    "ExecuteTime": {
     "end_time": "2024-09-22T15:10:56.885330Z",
     "start_time": "2024-09-22T15:10:56.515871Z"
    }
   },
   "source": [
    "import yfinance as yf\n",
    "start_date = '2010-01-01'\n",
    "data = yf.download(\n",
    "    '^GSPC',\n",
    "    start = start_date,\n",
    "    interval = '1d',\n",
    "    progress = False\n",
    ")"
   ],
   "outputs": [],
   "execution_count": 171
  },
  {
   "metadata": {},
   "cell_type": "markdown",
   "source": "### 1. NNGARCH",
   "id": "39422dbe33f713f1"
  },
  {
   "metadata": {
    "ExecuteTime": {
     "end_time": "2024-09-22T15:10:57.494334Z",
     "start_time": "2024-09-22T15:10:57.429297Z"
    }
   },
   "cell_type": "code",
   "source": [
    "import arch\n",
    "import warnings\n",
    "warnings.filterwarnings('ignore')\n",
    "\n",
    "data['ret'] = data['Adj Close'].pct_change().dropna()\n",
    "\n",
    "garch_model = arch.arch_model(\n",
    "    data['ret'].dropna(), \n",
    "    vol = 'GARCH', \n",
    "    p = 2, q = 1,\n",
    "    mean = 'AR',\n",
    "    lags = [1, 2]\n",
    ").fit()\n",
    "\n",
    "data['cond_vol'] = np.sqrt(garch_model.conditional_volatility)"
   ],
   "id": "19ae82b25da54d76",
   "outputs": [
    {
     "name": "stdout",
     "output_type": "stream",
     "text": [
      "Iteration:      1,   Func. Count:      9,   Neg. LLF: 1.991518176082924e+22\n",
      "Iteration:      2,   Func. Count:     26,   Neg. LLF: 3.1770196678941507e+18\n",
      "Iteration:      3,   Func. Count:     42,   Neg. LLF: 4.1179046606921915e+27\n",
      "Iteration:      4,   Func. Count:     60,   Neg. LLF: 8.831101556633531e+27\n",
      "Iteration:      5,   Func. Count:     78,   Neg. LLF: 4562240774500.322\n",
      "Iteration:      6,   Func. Count:     92,   Neg. LLF: 3.635493963404398e+23\n",
      "Iteration:      7,   Func. Count:    110,   Neg. LLF: 1.4146434437064528e+22\n",
      "Iteration:      8,   Func. Count:    128,   Neg. LLF: 3.4026486037217823e+18\n",
      "Iteration:      9,   Func. Count:    144,   Neg. LLF: 1.9185356501838307e+19\n",
      "Iteration:     10,   Func. Count:    159,   Neg. LLF: 16632953242356.15\n",
      "Iteration:     11,   Func. Count:    175,   Neg. LLF: -12104.051094490898\n",
      "Optimization terminated successfully    (Exit mode 0)\n",
      "            Current function value: -12104.051080208983\n",
      "            Iterations: 15\n",
      "            Function evaluations: 175\n",
      "            Gradient evaluations: 11\n"
     ]
    }
   ],
   "execution_count": 172
  },
  {
   "metadata": {
    "ExecuteTime": {
     "end_time": "2024-09-22T15:10:57.923639Z",
     "start_time": "2024-09-22T15:10:57.916086Z"
    }
   },
   "cell_type": "code",
   "source": [
    "X = pd.concat(\n",
    "    [data['cond_vol'].shift(1), data['cond_vol'].shift(2)], axis = 1\n",
    ").dropna()\n",
    "y = data['cond_vol'].iloc[5:].copy('deep')\n",
    "\n",
    "X.columns = ['t-1','t-2']\n",
    "y.name = 'cond_vol'"
   ],
   "id": "550ebebf529dae8c",
   "outputs": [],
   "execution_count": 173
  },
  {
   "metadata": {
    "ExecuteTime": {
     "end_time": "2024-09-22T15:10:58.664002Z",
     "start_time": "2024-09-22T15:10:58.657345Z"
    }
   },
   "cell_type": "code",
   "source": "X.head()",
   "id": "687ee633e9bc6e01",
   "outputs": [
    {
     "data": {
      "text/plain": [
       "                 t-1       t-2\n",
       "Date                          \n",
       "2010-01-11  0.099448  0.101846\n",
       "2010-01-12  0.094715  0.099448\n",
       "2010-01-13  0.090221  0.094715\n",
       "2010-01-14  0.089599  0.090221\n",
       "2010-01-15  0.089852  0.089599"
      ],
      "text/html": [
       "<div>\n",
       "<style scoped>\n",
       "    .dataframe tbody tr th:only-of-type {\n",
       "        vertical-align: middle;\n",
       "    }\n",
       "\n",
       "    .dataframe tbody tr th {\n",
       "        vertical-align: top;\n",
       "    }\n",
       "\n",
       "    .dataframe thead th {\n",
       "        text-align: right;\n",
       "    }\n",
       "</style>\n",
       "<table border=\"1\" class=\"dataframe\">\n",
       "  <thead>\n",
       "    <tr style=\"text-align: right;\">\n",
       "      <th></th>\n",
       "      <th>t-1</th>\n",
       "      <th>t-2</th>\n",
       "    </tr>\n",
       "    <tr>\n",
       "      <th>Date</th>\n",
       "      <th></th>\n",
       "      <th></th>\n",
       "    </tr>\n",
       "  </thead>\n",
       "  <tbody>\n",
       "    <tr>\n",
       "      <th>2010-01-11</th>\n",
       "      <td>0.099448</td>\n",
       "      <td>0.101846</td>\n",
       "    </tr>\n",
       "    <tr>\n",
       "      <th>2010-01-12</th>\n",
       "      <td>0.094715</td>\n",
       "      <td>0.099448</td>\n",
       "    </tr>\n",
       "    <tr>\n",
       "      <th>2010-01-13</th>\n",
       "      <td>0.090221</td>\n",
       "      <td>0.094715</td>\n",
       "    </tr>\n",
       "    <tr>\n",
       "      <th>2010-01-14</th>\n",
       "      <td>0.089599</td>\n",
       "      <td>0.090221</td>\n",
       "    </tr>\n",
       "    <tr>\n",
       "      <th>2010-01-15</th>\n",
       "      <td>0.089852</td>\n",
       "      <td>0.089599</td>\n",
       "    </tr>\n",
       "  </tbody>\n",
       "</table>\n",
       "</div>"
      ]
     },
     "execution_count": 174,
     "metadata": {},
     "output_type": "execute_result"
    }
   ],
   "execution_count": 174
  },
  {
   "metadata": {
    "ExecuteTime": {
     "end_time": "2024-09-22T15:11:00.044935Z",
     "start_time": "2024-09-22T15:11:00.006940Z"
    }
   },
   "cell_type": "code",
   "source": "y.head()",
   "id": "97dd65fbba7daf44",
   "outputs": [
    {
     "data": {
      "text/plain": [
       "Date\n",
       "2010-01-11    0.094715\n",
       "2010-01-12    0.090221\n",
       "2010-01-13    0.089599\n",
       "2010-01-14    0.089852\n",
       "2010-01-15    0.087687\n",
       "Name: cond_vol, dtype: float64"
      ]
     },
     "execution_count": 175,
     "metadata": {},
     "output_type": "execute_result"
    }
   ],
   "execution_count": 175
  },
  {
   "metadata": {
    "ExecuteTime": {
     "end_time": "2024-09-22T15:11:00.989461Z",
     "start_time": "2024-09-22T15:11:00.979521Z"
    }
   },
   "cell_type": "code",
   "source": [
    "# train test data split\n",
    "X_train, X_test, y_train, y_test = X.loc[:'2022'], X.loc['2023':], y.loc[:'2022'], y.loc['2023':]"
   ],
   "id": "f2506dba708ddf9a",
   "outputs": [],
   "execution_count": 176
  },
  {
   "metadata": {
    "ExecuteTime": {
     "end_time": "2024-09-22T15:12:09.025569Z",
     "start_time": "2024-09-22T15:12:09.010684Z"
    }
   },
   "cell_type": "code",
   "source": [
    "input_size = 2 # input size (number of features), RNN(p)\n",
    "hidden_size = 50 # number of hidden nodes\n",
    "output_size = 1 # output size\n",
    "num_layers = 1 # number of hidden layers\n",
    "learning_rate = 0.001\n",
    "num_epochs = 10\n",
    "batch_size = 1\n",
    "\n",
    "# Feature Preprocessing\n",
    "X_train_values = X_train.values.reshape(-1, 1, input_size)\n",
    "X_test_values = X_test.values.reshape(-1, 1, input_size)\n",
    "\n",
    "y_train_values = y_train.values.reshape(-1, 1)\n",
    "y_test_values = y_test.values.reshape(-1, 1)\n",
    "\n",
    "X_train_tensor = torch.tensor(X_train_values, dtype = torch.float32)\n",
    "X_test_tensor = torch.tensor(X_test_values, dtype = torch.float32)\n",
    "y_train_tensor = torch.tensor(y_train_values, dtype = torch.float32)\n",
    "y_test_tensor = torch.tensor(y_test_values, dtype = torch.float32)"
   ],
   "id": "40435664e4fa70cd",
   "outputs": [],
   "execution_count": 217
  },
  {
   "metadata": {
    "ExecuteTime": {
     "end_time": "2024-09-22T15:12:09.308195Z",
     "start_time": "2024-09-22T15:12:09.300208Z"
    }
   },
   "cell_type": "code",
   "source": [
    "class NNGARCH(nn.Module):\n",
    "    def __init__(self, input_size, hidden_size, num_layers):\n",
    "        super(NNGARCH, self).__init__()\n",
    "        self.num_layers = num_layers\n",
    "        self.fc1 = nn.Linear(input_size, hidden_size)\n",
    "        self.hidden_layers = nn.ModuleList([nn.Linear(hidden_size, hidden_size) for _ in range(num_layers - 1)])\n",
    "        self.fc2 = nn.Linear(hidden_size, 1)\n",
    "        self.sigmoid = nn.Sigmoid()\n",
    "        self.tanh = nn.Tanh()\n",
    "        self.relu = nn.ReLU()\n",
    "        self.silu = nn.SiLU()\n",
    "\n",
    "    def forward(self, x):\n",
    "        out = self.fc1(x)\n",
    "        \n",
    "        for layer in self.hidden_layers:\n",
    "            out = layer(out)\n",
    "\n",
    "        out = self.fc2(out)\n",
    "        return out"
   ],
   "id": "ae0be1134bd813c2",
   "outputs": [],
   "execution_count": 218
  },
  {
   "metadata": {
    "ExecuteTime": {
     "end_time": "2024-09-22T15:12:09.624952Z",
     "start_time": "2024-09-22T15:12:09.615879Z"
    }
   },
   "cell_type": "code",
   "source": [
    "model = NNGARCH(\n",
    "    input_size, \n",
    "    hidden_size, \n",
    "    num_layers\n",
    ")\n",
    "criterion = nn.MSELoss()\n",
    "optimizer = optim.Adam(\n",
    "    model.parameters(), \n",
    "    lr = learning_rate\n",
    ")"
   ],
   "id": "e4f9838829a987be",
   "outputs": [],
   "execution_count": 219
  },
  {
   "metadata": {
    "ExecuteTime": {
     "end_time": "2024-09-22T15:12:10.220754Z",
     "start_time": "2024-09-22T15:12:10.002441Z"
    }
   },
   "cell_type": "code",
   "source": [
    "for epoch in range(num_epochs):\n",
    "    model.train()\n",
    "    outputs = model(X_train_tensor)\n",
    "    loss = criterion(outputs, y_train_tensor)\n",
    "    \n",
    "    optimizer.zero_grad()\n",
    "    loss.backward()\n",
    "    optimizer.step()\n",
    "    \n",
    "    print(f'Epoch [{epoch+1}/{num_epochs}], Loss: {loss.item():.4f}')"
   ],
   "id": "55e775ae286fa5b1",
   "outputs": [
    {
     "name": "stdout",
     "output_type": "stream",
     "text": [
      "Epoch [1/10], Loss: 0.0366\n",
      "Epoch [2/10], Loss: 0.0294\n",
      "Epoch [3/10], Loss: 0.0230\n",
      "Epoch [4/10], Loss: 0.0175\n",
      "Epoch [5/10], Loss: 0.0128\n",
      "Epoch [6/10], Loss: 0.0089\n",
      "Epoch [7/10], Loss: 0.0059\n",
      "Epoch [8/10], Loss: 0.0036\n",
      "Epoch [9/10], Loss: 0.0020\n",
      "Epoch [10/10], Loss: 0.0011\n"
     ]
    }
   ],
   "execution_count": 220
  },
  {
   "metadata": {
    "ExecuteTime": {
     "end_time": "2024-09-22T15:12:10.416826Z",
     "start_time": "2024-09-22T15:12:10.411690Z"
    }
   },
   "cell_type": "code",
   "source": [
    "model.eval()\n",
    "with torch.no_grad():\n",
    "    predicted_volatility = model(X_test_tensor).squeeze().numpy()"
   ],
   "id": "1095f7a855a7525a",
   "outputs": [],
   "execution_count": 221
  },
  {
   "metadata": {
    "ExecuteTime": {
     "end_time": "2024-09-22T15:12:11.329264Z",
     "start_time": "2024-09-22T15:12:11.067330Z"
    }
   },
   "cell_type": "code",
   "source": [
    "import matplotlib.pyplot as plt\n",
    "\n",
    "fig, ax = plt.subplots(figsize = (8, 5))\n",
    "plt.plot(y_test.index, y_test, label = 'Actual Returns', lw = 0.5)\n",
    "plt.plot(y_test.index, predicted_volatility, label = 'Predicted Returns', lw = 1)\n",
    "for spine in ax.spines.values():\n",
    "    spine.set_visible(False)\n",
    "ax.grid(False)\n",
    "ax.yaxis.grid(True, ls = ':', alpha = 0.5) \n",
    "plt.legend()\n",
    "plt.title(r'NNGARCH(2) Prediction | S&P500 Returns | daily')\n",
    "plt.show()"
   ],
   "id": "d307870f83aca8af",
   "outputs": [
    {
     "data": {
      "text/plain": [
       "<Figure size 800x500 with 1 Axes>"
      ],
      "image/png": "[encoded data removed]"
     },
     "metadata": {},
     "output_type": "display_data"
    }
   ],
   "execution_count": 222
  },
  {
   "metadata": {},
   "cell_type": "markdown",
   "source": "### 2. Recurrent Neural Net & GARCH",
   "id": "24c86fa84f0dbc19"
  },
  {
   "metadata": {},
   "cell_type": "markdown",
   "source": "#### 2-1. RNN-GARCH",
   "id": "e1731805934183"
  },
  {
   "metadata": {},
   "cell_type": "code",
   "outputs": [],
   "execution_count": null,
   "source": "",
   "id": "bdf3ed9514b8c89c"
  },
  {
   "metadata": {},
   "cell_type": "markdown",
   "source": "#### 2-2. $\\alpha$RNN-GARCH",
   "id": "c3474454d148a287"
  },
  {
   "metadata": {},
   "cell_type": "code",
   "outputs": [],
   "execution_count": null,
   "source": "",
   "id": "2c25d12e6ee139ae"
  },
  {
   "metadata": {},
   "cell_type": "markdown",
   "source": "#### 2-3. $\\alpha_t$RNN-GARCH",
   "id": "64b91dbf60e72daa"
  },
  {
   "metadata": {},
   "cell_type": "code",
   "outputs": [],
   "execution_count": null,
   "source": "",
   "id": "cbe649923dea418c"
  },
  {
   "metadata": {},
   "cell_type": "markdown",
   "source": "### 3. Market Long Memories",
   "id": "4a89b29462231e77"
  },
  {
   "metadata": {},
   "cell_type": "markdown",
   "source": "#### 3-1. FIRNN-GARCH",
   "id": "3e548bb3555dbd31"
  },
  {
   "metadata": {},
   "cell_type": "code",
   "outputs": [],
   "execution_count": null,
   "source": "",
   "id": "9f0247484d47000c"
  },
  {
   "metadata": {},
   "cell_type": "markdown",
   "source": "#### 3-2. $\\alpha$FIRNN-GARCH",
   "id": "e537af2d293384cf"
  },
  {
   "metadata": {},
   "cell_type": "code",
   "outputs": [],
   "execution_count": null,
   "source": "",
   "id": "b588d928c47035e0"
  },
  {
   "metadata": {},
   "cell_type": "markdown",
   "source": "#### 3-3. $\\alpha_t$FIRNN-GARCH",
   "id": "bb40d52ac5eebc78"
  },
  {
   "metadata": {},
   "cell_type": "code",
   "outputs": [],
   "execution_count": null,
   "source": "",
   "id": "49a1c593054f7c7f"
  }
 ],
 "metadata": {
  "kernelspec": {
   "display_name": "Python 3",
   "language": "python",
   "name": "python3"
  },
  "language_info": {
   "codemirror_mode": {
    "name": "ipython",
    "version": 2
   },
   "file_extension": ".py",
   "mimetype": "text/x-python",
   "name": "python",
   "nbconvert_exporter": "python",
   "pygments_lexer": "ipython2",
   "version": "2.7.6"
  }
 },
 "nbformat": 4,
 "nbformat_minor": 5
}
