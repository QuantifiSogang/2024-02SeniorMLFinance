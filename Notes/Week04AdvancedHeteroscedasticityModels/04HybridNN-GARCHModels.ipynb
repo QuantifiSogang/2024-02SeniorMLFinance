{
 "cells": [
  {
   "metadata": {},
   "cell_type": "markdown",
   "source": "## Hybrid Neural-Net GARCH Models",
   "id": "d5b76f1c9ebd1239"
  },
  {
   "cell_type": "code",
   "execution_count": null,
   "id": "initial_id",
   "metadata": {
    "collapsed": true
   },
   "outputs": [],
   "source": [
    ""
   ]
  },
  {
   "metadata": {},
   "cell_type": "markdown",
   "source": "### 1. NNGARCH",
   "id": "39422dbe33f713f1"
  },
  {
   "metadata": {},
   "cell_type": "code",
   "outputs": [],
   "execution_count": null,
   "source": "",
   "id": "ae0be1134bd813c2"
  },
  {
   "metadata": {},
   "cell_type": "markdown",
   "source": "### 2. Recurrent Neural Net & GARCH",
   "id": "24c86fa84f0dbc19"
  },
  {
   "metadata": {},
   "cell_type": "markdown",
   "source": "#### 2-1. RNN-GARCH",
   "id": "e1731805934183"
  },
  {
   "metadata": {},
   "cell_type": "code",
   "outputs": [],
   "execution_count": null,
   "source": "",
   "id": "bdf3ed9514b8c89c"
  },
  {
   "metadata": {},
   "cell_type": "markdown",
   "source": "#### 2-2. $\\alpha$RNN-GARCH",
   "id": "c3474454d148a287"
  },
  {
   "metadata": {},
   "cell_type": "code",
   "outputs": [],
   "execution_count": null,
   "source": "",
   "id": "2c25d12e6ee139ae"
  },
  {
   "metadata": {},
   "cell_type": "markdown",
   "source": "#### 2-3. $\\alpha_t$RNN-GARCH",
   "id": "64b91dbf60e72daa"
  },
  {
   "metadata": {},
   "cell_type": "code",
   "outputs": [],
   "execution_count": null,
   "source": "",
   "id": "cbe649923dea418c"
  },
  {
   "metadata": {},
   "cell_type": "markdown",
   "source": "### 3. Market Long Memories",
   "id": "4a89b29462231e77"
  },
  {
   "metadata": {},
   "cell_type": "markdown",
   "source": "#### 3-1. FIRNN-GARCH",
   "id": "3e548bb3555dbd31"
  },
  {
   "metadata": {},
   "cell_type": "code",
   "outputs": [],
   "execution_count": null,
   "source": "",
   "id": "9f0247484d47000c"
  },
  {
   "metadata": {},
   "cell_type": "markdown",
   "source": "#### 3-2. $\\alpha$FIRNN-GARCH",
   "id": "e537af2d293384cf"
  },
  {
   "metadata": {},
   "cell_type": "code",
   "outputs": [],
   "execution_count": null,
   "source": "",
   "id": "b588d928c47035e0"
  },
  {
   "metadata": {},
   "cell_type": "markdown",
   "source": "#### 3-3. $\\alpha_t$FIRNN-GARCH",
   "id": "bb40d52ac5eebc78"
  },
  {
   "metadata": {},
   "cell_type": "code",
   "outputs": [],
   "execution_count": null,
   "source": "",
   "id": "49a1c593054f7c7f"
  }
 ],
 "metadata": {
  "kernelspec": {
   "display_name": "Python 3",
   "language": "python",
   "name": "python3"
  },
  "language_info": {
   "codemirror_mode": {
    "name": "ipython",
    "version": 2
   },
   "file_extension": ".py",
   "mimetype": "text/x-python",
   "name": "python",
   "nbconvert_exporter": "python",
   "pygments_lexer": "ipython2",
   "version": "2.7.6"
  }
 },
 "nbformat": 4,
 "nbformat_minor": 5
}
