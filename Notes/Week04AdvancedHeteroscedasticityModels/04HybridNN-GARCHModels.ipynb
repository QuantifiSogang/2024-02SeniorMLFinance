{
 "cells": [
  {
   "metadata": {},
   "cell_type": "markdown",
   "source": "## Hybrid Neural-Net GARCH Models",
   "id": "d5b76f1c9ebd1239"
  },
  {
   "cell_type": "code",
   "id": "initial_id",
   "metadata": {
    "collapsed": true,
    "ExecuteTime": {
     "end_time": "2024-09-20T16:06:43.434218Z",
     "start_time": "2024-09-20T16:06:41.921225Z"
    }
   },
   "source": [
    "import numpy as np\n",
    "import pandas as pd\n",
    "import yfinance as yf\n",
    "\n",
    "start_date = '2018-01-01'\n",
    "data = yf.download(\n",
    "    '^GSPC',\n",
    "    start = start_date,\n",
    "    interval = '1d',\n",
    "    progress = False\n",
    ")"
   ],
   "outputs": [],
   "execution_count": 2
  },
  {
   "metadata": {},
   "cell_type": "markdown",
   "source": "### 1. NNGARCH",
   "id": "39422dbe33f713f1"
  },
  {
   "metadata": {
    "ExecuteTime": {
     "end_time": "2024-09-20T16:09:36.984261Z",
     "start_time": "2024-09-20T16:09:27.121804Z"
    }
   },
   "cell_type": "code",
   "source": [
    "import torch\n",
    "import torch.nn as nn\n",
    "import torch.optim as optim\n",
    "\n",
    "class NNGARCH(nn.Module):\n",
    "    def __init__(self, input_size, hidden_size):\n",
    "        super(NNGARCH, self).__init__()\n",
    "        self.fc1 = nn.Linear(input_size, hidden_size) \n",
    "        self.fc2 = nn.Linear(hidden_size, 1)  \n",
    "        self.sigmoid = nn.Sigmoid() \n",
    "\n",
    "    def forward(self, x):\n",
    "        out = self.fc1(x)\n",
    "        out = self.sigmoid(out) \n",
    "        out = self.fc2(out)\n",
    "        return out"
   ],
   "id": "ae0be1134bd813c2",
   "outputs": [],
   "execution_count": 3
  },
  {
   "metadata": {},
   "cell_type": "markdown",
   "source": "### 2. Recurrent Neural Net & GARCH",
   "id": "24c86fa84f0dbc19"
  },
  {
   "metadata": {},
   "cell_type": "markdown",
   "source": "#### 2-1. RNN-GARCH",
   "id": "e1731805934183"
  },
  {
   "metadata": {},
   "cell_type": "code",
   "outputs": [],
   "execution_count": null,
   "source": "",
   "id": "bdf3ed9514b8c89c"
  },
  {
   "metadata": {},
   "cell_type": "markdown",
   "source": "#### 2-2. $\\alpha$RNN-GARCH",
   "id": "c3474454d148a287"
  },
  {
   "metadata": {},
   "cell_type": "code",
   "outputs": [],
   "execution_count": null,
   "source": "",
   "id": "2c25d12e6ee139ae"
  },
  {
   "metadata": {},
   "cell_type": "markdown",
   "source": "#### 2-3. $\\alpha_t$RNN-GARCH",
   "id": "64b91dbf60e72daa"
  },
  {
   "metadata": {},
   "cell_type": "code",
   "outputs": [],
   "execution_count": null,
   "source": "",
   "id": "cbe649923dea418c"
  },
  {
   "metadata": {},
   "cell_type": "markdown",
   "source": "### 3. Market Long Memories",
   "id": "4a89b29462231e77"
  },
  {
   "metadata": {},
   "cell_type": "markdown",
   "source": "#### 3-1. FIRNN-GARCH",
   "id": "3e548bb3555dbd31"
  },
  {
   "metadata": {},
   "cell_type": "code",
   "outputs": [],
   "execution_count": null,
   "source": "",
   "id": "9f0247484d47000c"
  },
  {
   "metadata": {},
   "cell_type": "markdown",
   "source": "#### 3-2. $\\alpha$FIRNN-GARCH",
   "id": "e537af2d293384cf"
  },
  {
   "metadata": {},
   "cell_type": "code",
   "outputs": [],
   "execution_count": null,
   "source": "",
   "id": "b588d928c47035e0"
  },
  {
   "metadata": {},
   "cell_type": "markdown",
   "source": "#### 3-3. $\\alpha_t$FIRNN-GARCH",
   "id": "bb40d52ac5eebc78"
  },
  {
   "metadata": {},
   "cell_type": "code",
   "outputs": [],
   "execution_count": null,
   "source": "",
   "id": "49a1c593054f7c7f"
  }
 ],
 "metadata": {
  "kernelspec": {
   "display_name": "Python 3",
   "language": "python",
   "name": "python3"
  },
  "language_info": {
   "codemirror_mode": {
    "name": "ipython",
    "version": 2
   },
   "file_extension": ".py",
   "mimetype": "text/x-python",
   "name": "python",
   "nbconvert_exporter": "python",
   "pygments_lexer": "ipython2",
   "version": "2.7.6"
  }
 },
 "nbformat": 4,
 "nbformat_minor": 5
}
