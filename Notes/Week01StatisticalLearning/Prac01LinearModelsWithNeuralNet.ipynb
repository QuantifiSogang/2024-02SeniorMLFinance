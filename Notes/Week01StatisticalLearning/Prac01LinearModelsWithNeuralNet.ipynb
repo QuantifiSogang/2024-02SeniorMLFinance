{
 "cells": [
  {
   "cell_type": "code",
   "id": "initial_id",
   "metadata": {
    "collapsed": true,
    "ExecuteTime": {
     "end_time": "2024-09-24T05:53:25.276661Z",
     "start_time": "2024-09-24T05:53:24.065867Z"
    }
   },
   "source": [
    "import torch\n",
    "import torch.nn as nn\n",
    "import torch.optim as optim\n",
    "import numpy as np\n",
    "import pandas as pd\n",
    "import random\n",
    "\n",
    "random.seed(42)\n",
    "np.random.seed(42)\n",
    "torch.manual_seed(42)\n",
    "if torch.cuda.is_available():\n",
    "    torch.cuda.manual_seed(42)\n",
    "    torch.cuda.manual_seed_all(42) \n",
    "\n",
    "torch.backends.cudnn.deterministic = True\n",
    "torch.backends.cudnn.benchmark = False\n",
    "torch.use_deterministic_algorithms(True)"
   ],
   "outputs": [],
   "execution_count": 1
  },
  {
   "metadata": {
    "ExecuteTime": {
     "end_time": "2024-09-24T05:53:25.281086Z",
     "start_time": "2024-09-24T05:53:25.276661Z"
    }
   },
   "cell_type": "code",
   "source": [
    "n_samples = 100\n",
    "X = pd.DataFrame(np.random.randn(n_samples, 1), columns = ['X1'])\n",
    "y = 3 * pd.Series(X.values.squeeze()) + 2 + pd.Series(np.random.randn(n_samples).squeeze(), name='y')"
   ],
   "id": "a25c201ba332d139",
   "outputs": [],
   "execution_count": 2
  },
  {
   "metadata": {
    "ExecuteTime": {
     "end_time": "2024-09-24T05:53:25.375181Z",
     "start_time": "2024-09-24T05:53:25.281086Z"
    }
   },
   "cell_type": "code",
   "source": [
    "import matplotlib.pyplot as plt\n",
    "\n",
    "fig, ax = plt.subplots(figsize = (8, 5))\n",
    "plt.scatter(X, y, label = 'sample data', lw = 0.5, marker = '.', edgecolor = 'None')\n",
    "for spine in ax.spines.values():\n",
    "    spine.set_visible(False)\n",
    "ax.grid(False)\n",
    "ax.yaxis.grid(True, ls = ':', alpha = 0.5) \n",
    "plt.legend()\n",
    "plt.title('Random Sample Dataset')\n",
    "plt.show()"
   ],
   "id": "d92dba0a92b83832",
   "outputs": [
    {
     "data": {
      "text/plain": [
       "<Figure size 800x500 with 1 Axes>"
      ],
      "image/png": "[encoded data removed]"
     },
     "metadata": {},
     "output_type": "display_data"
    }
   ],
   "execution_count": 3
  },
  {
   "metadata": {
    "ExecuteTime": {
     "end_time": "2024-09-24T05:53:25.714758Z",
     "start_time": "2024-09-24T05:53:25.375181Z"
    }
   },
   "cell_type": "code",
   "source": [
    "from FinancialDeepLearning.regression.linear_model import LinearNet\n",
    "linear_net = LinearNet(X, y)"
   ],
   "id": "acda2613718c495",
   "outputs": [],
   "execution_count": 4
  },
  {
   "metadata": {
    "ExecuteTime": {
     "end_time": "2024-09-24T05:53:26.211724Z",
     "start_time": "2024-09-24T05:53:25.714758Z"
    }
   },
   "cell_type": "code",
   "source": [
    "linear_net_fit = linear_net.fit(\n",
    "    criterion = 'MSE',\n",
    "    optimizer = 'SGD',\n",
    "    activation_function = None,\n",
    "    learning_rate = 0.01,\n",
    "    num_epochs = 10\n",
    ")"
   ],
   "id": "f3d0931634bd2e24",
   "outputs": [
    {
     "name": "stderr",
     "output_type": "stream",
     "text": [
      "100%|██████████| 10/10 [00:00<00:00, 3344.74it/s]\n"
     ]
    }
   ],
   "execution_count": 5
  },
  {
   "metadata": {
    "ExecuteTime": {
     "end_time": "2024-09-24T05:53:26.216531Z",
     "start_time": "2024-09-24T05:53:26.212722Z"
    }
   },
   "cell_type": "code",
   "source": [
    "weights = linear_net_fit.linear.weight.detach().numpy().flatten() # coefficient\n",
    "bias = linear_net_fit.linear.bias.detach().numpy().flatten()\n",
    "\n",
    "np.append(bias, weights)"
   ],
   "id": "76bc4d0a28336042",
   "outputs": [
    {
     "data": {
      "text/plain": [
       "array([1.0083823, 1.0649785], dtype=float32)"
      ]
     },
     "execution_count": 6,
     "metadata": {},
     "output_type": "execute_result"
    }
   ],
   "execution_count": 6
  },
  {
   "metadata": {
    "ExecuteTime": {
     "end_time": "2024-09-24T05:53:26.228510Z",
     "start_time": "2024-09-24T05:53:26.216531Z"
    }
   },
   "cell_type": "code",
   "source": "print(linear_net.summary())",
   "id": "cf3df52fdf5fca75",
   "outputs": [
    {
     "name": "stdout",
     "output_type": "stream",
     "text": [
      "                    LinearNet Results\n",
      "==========================================================\n",
      "Dep. Variable:    predicted        MSE:           4.1659  \n",
      "Model:            LinearNet        Log Likelihood -214.251\n",
      "Date:             Tue, 24 Sep 2024 AIC            434.502 \n",
      "Time:             14:53:26         BIC            442.318 \n",
      "Sample:           100              HQIC           437.665 \n",
      "No. Observations: 100              n_cols         2.0000  \n",
      "R-squared:        0.4480                                  \n",
      "------------------------------------------------------------\n",
      "         coef    std err     t      P>|t|    [0.025   0.975]\n",
      "------------------------------------------------------------\n",
      "const   1.0084    0.2037   5.2271   0.0000   0.6656   1.4643\n",
      "X1      1.0650    0.2259   4.7149   0.0000   0.6223   1.5077\n",
      "----------------------------------------------------------\n",
      "Jarque-Bera Test:     0.54    Durbin-Watson:         1.86 \n",
      "Prob(JB):             0.76    Breusch-Pagan Test:    23.13\n",
      "Skew:                 0.18    Prob(H):               0.00 \n",
      "Kurtosis:             0.01                                \n",
      "==========================================================\n",
      "\n"
     ]
    }
   ],
   "execution_count": 7
  }
 ],
 "metadata": {
  "kernelspec": {
   "display_name": "Python 3",
   "language": "python",
   "name": "python3"
  },
  "language_info": {
   "codemirror_mode": {
    "name": "ipython",
    "version": 2
   },
   "file_extension": ".py",
   "mimetype": "text/x-python",
   "name": "python",
   "nbconvert_exporter": "python",
   "pygments_lexer": "ipython2",
   "version": "2.7.6"
  }
 },
 "nbformat": 4,
 "nbformat_minor": 5
}
