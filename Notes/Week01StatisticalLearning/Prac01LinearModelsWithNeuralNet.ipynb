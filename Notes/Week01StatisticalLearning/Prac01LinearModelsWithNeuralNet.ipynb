{
 "cells": [
  {
   "cell_type": "code",
   "id": "initial_id",
   "metadata": {
    "collapsed": true,
    "ExecuteTime": {
     "end_time": "2024-09-23T15:20:05.974997Z",
     "start_time": "2024-09-23T15:20:04.082950Z"
    }
   },
   "source": [
    "import torch\n",
    "import torch.nn as nn\n",
    "import torch.optim as optim\n",
    "import numpy as np\n",
    "import pandas as pd\n",
    "import random\n",
    "\n",
    "random.seed(42)\n",
    "np.random.seed(42)\n",
    "torch.manual_seed(42)\n",
    "if torch.cuda.is_available():\n",
    "    torch.cuda.manual_seed(42)\n",
    "    torch.cuda.manual_seed_all(42) \n",
    "\n",
    "torch.backends.cudnn.deterministic = True\n",
    "torch.backends.cudnn.benchmark = False\n",
    "torch.use_deterministic_algorithms(True)"
   ],
   "outputs": [],
   "execution_count": 1
  },
  {
   "metadata": {
    "ExecuteTime": {
     "end_time": "2024-09-23T15:22:48.856128Z",
     "start_time": "2024-09-23T15:22:48.848963Z"
    }
   },
   "cell_type": "code",
   "source": [
    "n_samples = 100\n",
    "X = np.random.randn(n_samples, 1)\n",
    "y = 3 * X.squeeze() + 2 + np.random.randn(n_samples)"
   ],
   "id": "a25c201ba332d139",
   "outputs": [],
   "execution_count": 6
  },
  {
   "metadata": {
    "ExecuteTime": {
     "end_time": "2024-09-23T15:33:53.333738Z",
     "start_time": "2024-09-23T15:33:53.183178Z"
    }
   },
   "cell_type": "code",
   "source": [
    "import matplotlib.pyplot as plt\n",
    "\n",
    "fig, ax = plt.subplots(figsize = (8, 5))\n",
    "plt.scatter(X, y, label = 'sample data', lw = 0.5, marker = '.', edgecolor = 'None')\n",
    "for spine in ax.spines.values():\n",
    "    spine.set_visible(False)\n",
    "ax.grid(False)\n",
    "ax.yaxis.grid(True, ls = ':', alpha = 0.5) \n",
    "plt.legend()\n",
    "plt.title('Random Sample Dataset')\n",
    "plt.show()"
   ],
   "id": "d92dba0a92b83832",
   "outputs": [
    {
     "data": {
      "text/plain": [
       "<Figure size 800x500 with 1 Axes>"
      ],
      "image/png": "[encoded data removed]"
     },
     "metadata": {},
     "output_type": "display_data"
    }
   ],
   "execution_count": 19
  },
  {
   "metadata": {},
   "cell_type": "markdown",
   "source": "Tensor transformation",
   "id": "682d5d971f5f5c73"
  },
  {
   "metadata": {
    "ExecuteTime": {
     "end_time": "2024-09-23T15:23:32.004618Z",
     "start_time": "2024-09-23T15:23:31.954334Z"
    }
   },
   "cell_type": "code",
   "source": [
    "X_train_tensor = torch.tensor(X, dtype = torch.float32)\n",
    "y_train_tensor = torch.tensor(y, dtype = torch.float32).unsqueeze(1)"
   ],
   "id": "d6be0bd9568f6a94",
   "outputs": [],
   "execution_count": 8
  },
  {
   "metadata": {},
   "cell_type": "markdown",
   "source": "Class declaration",
   "id": "139d2e757cb0567d"
  },
  {
   "metadata": {
    "ExecuteTime": {
     "end_time": "2024-09-23T15:24:38.679081Z",
     "start_time": "2024-09-23T15:24:38.669682Z"
    }
   },
   "cell_type": "code",
   "source": [
    "class LinearRegressionNetwork(nn.Module) :\n",
    "    def __init__(self, input_dim : int) -> None :\n",
    "        super(LinearRegressionNetwork, self).__init__()\n",
    "        self.linear = nn.Linear(input_dim, 1)\n",
    "        \n",
    "    def forward(self, x : torch.Tensor) -> torch.Tensor :\n",
    "        return self.linear(x)"
   ],
   "id": "a48e5bc8f4f2c584",
   "outputs": [],
   "execution_count": 9
  },
  {
   "metadata": {
    "ExecuteTime": {
     "end_time": "2024-09-23T15:25:15.514803Z",
     "start_time": "2024-09-23T15:25:15.492402Z"
    }
   },
   "cell_type": "code",
   "source": "X.shape",
   "id": "b7f9f7ed40daa2e5",
   "outputs": [
    {
     "data": {
      "text/plain": [
       "(100, 1)"
      ]
     },
     "execution_count": 10,
     "metadata": {},
     "output_type": "execute_result"
    }
   ],
   "execution_count": 10
  },
  {
   "metadata": {
    "ExecuteTime": {
     "end_time": "2024-09-23T15:35:11.241018Z",
     "start_time": "2024-09-23T15:35:11.230217Z"
    }
   },
   "cell_type": "code",
   "source": [
    "model = LinearRegressionNetwork(input_dim = X.shape[1]) # size = 1\n",
    "criterion = nn.MSELoss() # for regression, we use MSE Optimization\n",
    "optimizer = optim.SGD(model.parameters(), lr = 0.1) # Stochastic Gradient Descent"
   ],
   "id": "8a194b7a1fc8faaf",
   "outputs": [],
   "execution_count": 29
  },
  {
   "metadata": {
    "ExecuteTime": {
     "end_time": "2024-09-23T15:35:11.691785Z",
     "start_time": "2024-09-23T15:35:11.672816Z"
    }
   },
   "cell_type": "code",
   "source": [
    "num_epochs = 10\n",
    "for epoch in range(num_epochs):\n",
    "    model.train() # set train mode\n",
    "    optimizer.zero_grad() # optimizer initialize\n",
    "    \n",
    "    # predict and calculate loss function\n",
    "    outputs = model(X_train_tensor)\n",
    "    loss = criterion(outputs, y_train_tensor) # calculate MSE Loss\n",
    "    \n",
    "    # backpropagation\n",
    "    loss.backward()\n",
    "    optimizer.step()"
   ],
   "id": "d4806d5f68c90a99",
   "outputs": [],
   "execution_count": 30
  },
  {
   "metadata": {
    "ExecuteTime": {
     "end_time": "2024-09-23T15:35:12.150067Z",
     "start_time": "2024-09-23T15:35:12.147073Z"
    }
   },
   "cell_type": "code",
   "source": [
    "model.eval() # set evaluation mode\n",
    "with torch.no_grad() :\n",
    "    predicted = model(X_train_tensor).numpy()"
   ],
   "id": "627b57a63aa2183b",
   "outputs": [],
   "execution_count": 31
  },
  {
   "metadata": {
    "ExecuteTime": {
     "end_time": "2024-09-23T15:35:12.741895Z",
     "start_time": "2024-09-23T15:35:12.622206Z"
    }
   },
   "cell_type": "code",
   "source": [
    "import matplotlib.pyplot as plt\n",
    "\n",
    "fig, ax = plt.subplots(figsize = (8, 5))\n",
    "plt.scatter(X_train_tensor, predicted, label = 'predicted', lw = 0.5, marker = '.', edgecolor = 'None')\n",
    "plt.scatter(X, y, label = 'original', lw = 0.5, marker = '.', edgecolor = 'None')\n",
    "for spine in ax.spines.values():\n",
    "    spine.set_visible(False)\n",
    "ax.grid(False)\n",
    "ax.yaxis.grid(True, ls = ':', alpha = 0.5) \n",
    "plt.legend()\n",
    "plt.title('Random Sample Dataset')\n",
    "plt.show()"
   ],
   "id": "115daf7ce796c175",
   "outputs": [
    {
     "data": {
      "text/plain": [
       "<Figure size 800x500 with 1 Axes>"
      ],
      "image/png": "[encoded data removed]"
     },
     "metadata": {},
     "output_type": "display_data"
    }
   ],
   "execution_count": 32
  },
  {
   "metadata": {},
   "cell_type": "markdown",
   "source": "Explainability",
   "id": "92b65d14737311ab"
  },
  {
   "metadata": {
    "ExecuteTime": {
     "end_time": "2024-09-23T15:36:02.848345Z",
     "start_time": "2024-09-23T15:36:02.827080Z"
    }
   },
   "cell_type": "code",
   "source": [
    "print('weights')\n",
    "print(model.linear.weight)"
   ],
   "id": "7c28141814c60830",
   "outputs": [
    {
     "name": "stdout",
     "output_type": "stream",
     "text": [
      "weights\n",
      "Parameter containing:\n",
      "tensor([[2.7992]], requires_grad=True)\n"
     ]
    }
   ],
   "execution_count": 35
  },
  {
   "metadata": {
    "ExecuteTime": {
     "end_time": "2024-09-23T15:36:22.541110Z",
     "start_time": "2024-09-23T15:36:22.527346Z"
    }
   },
   "cell_type": "code",
   "source": [
    "print('bias')\n",
    "print(model.linear.bias)"
   ],
   "id": "5abdf92a2210f1c",
   "outputs": [
    {
     "name": "stdout",
     "output_type": "stream",
     "text": [
      "bias\n",
      "Parameter containing:\n",
      "tensor([1.9469], requires_grad=True)\n"
     ]
    }
   ],
   "execution_count": 36
  },
  {
   "metadata": {
    "ExecuteTime": {
     "end_time": "2024-09-23T15:37:46.765836Z",
     "start_time": "2024-09-23T15:37:46.754866Z"
    }
   },
   "cell_type": "code",
   "source": [
    "weights = model.linear.weight.detach().numpy().flatten()\n",
    "bias = model.linear.bias.detach().numpy().flatten()"
   ],
   "id": "d4392111bc4e962d",
   "outputs": [],
   "execution_count": 37
  },
  {
   "metadata": {
    "ExecuteTime": {
     "end_time": "2024-09-23T15:51:06.962899Z",
     "start_time": "2024-09-23T15:51:06.950107Z"
    }
   },
   "cell_type": "code",
   "source": "residuals = y - predicted.squeeze()",
   "id": "e516fb583c66c8b5",
   "outputs": [],
   "execution_count": 43
  },
  {
   "metadata": {
    "ExecuteTime": {
     "end_time": "2024-09-23T15:38:57.651288Z",
     "start_time": "2024-09-23T15:38:57.189647Z"
    }
   },
   "cell_type": "code",
   "source": [
    "from sklearn.metrics import mean_squared_error, r2_score\n",
    "# Calculate R-squared Error\n",
    "mse = mean_squared_error(y, predicted)\n",
    "r2 = r2_score(y, predicted)"
   ],
   "id": "32ee6c96a5658280",
   "outputs": [],
   "execution_count": 38
  },
  {
   "metadata": {
    "ExecuteTime": {
     "end_time": "2024-09-23T16:14:09.781216Z",
     "start_time": "2024-09-23T16:14:09.767421Z"
    }
   },
   "cell_type": "code",
   "source": [
    "from statsmodels.iolib.summary2 import Summary\n",
    "from scipy.stats import jarque_bera, skew, kurtosis\n",
    "from statsmodels.stats.diagnostic import het_breuschpagan, acorr_ljungbox\n",
    "from statsmodels.stats.stattools import durbin_watson\n",
    "import statsmodels.api as sm"
   ],
   "id": "e5c90e86fa16a00",
   "outputs": [],
   "execution_count": 72
  },
  {
   "metadata": {
    "ExecuteTime": {
     "end_time": "2024-09-23T16:21:32.397260Z",
     "start_time": "2024-09-23T16:21:32.383393Z"
    }
   },
   "cell_type": "code",
   "source": [
    "from scipy import stats\n",
    "\n",
    "def summary(model, X, y, residuals) :\n",
    "    smry = Summary()\n",
    "    \n",
    "    X = sm.add_constant(X)\n",
    "    \n",
    "    n = len(y) \n",
    "    p = X.shape[1]\n",
    "    \n",
    "    mse = np.sum(residuals ** 2) / (n - p)\n",
    "    log_likelihood = -0.5 * n * (np.log(2 * np.pi * mse) + 1)\n",
    "    \n",
    "    k = X_train_tensor.shape[1] + 1 \n",
    "    aic = -2 * log_likelihood + 2 * k\n",
    "    bic = -2 * log_likelihood + k * np.log(n)\n",
    "    hqic = -2 * log_likelihood + 2 * k * np.log(np.log(n))\n",
    "    \n",
    "    # Model Information\n",
    "    model_info = [\n",
    "        ('Dep. Variable:', 'predicted'),\n",
    "        ('Model:', 'LinearNet'),\n",
    "        ('Date:', pd.Timestamp.now().strftime('%a, %d %b %Y')),\n",
    "        ('Time:', pd.Timestamp.now().strftime('%H:%M:%S')),\n",
    "        ('Sample:', f'{len(X)}'),\n",
    "        ('No. Observations:', f\"{len(X)}\"),\n",
    "\n",
    "        ('Log Likelihood', f\"{log_likelihood:.3f}\"),\n",
    "        ('AIC', f\"{aic:.3f}\"),\n",
    "        ('BIC', f\"{bic:.3f}\"),\n",
    "        ('HQIC', f\"{hqic:.3f}\"),\n",
    "    ]\n",
    "    \n",
    "    smry.add_dict(\n",
    "        dict(model_info, n_cols = 2)\n",
    "    )\n",
    "    \n",
    "    weights = model.linear.weight.detach().numpy().flatten()\n",
    "    bias = model.linear.bias.detach().numpy().flatten()\n",
    "    \n",
    "    XTX_inv = np.linalg.inv(np.dot(X.T, X))  # (X'X)^-1\n",
    "    param_variances = mse * np.diag(XTX_inv)  # 각 파라미터의 분산\n",
    "    std_err = np.sqrt(param_variances)  # 표준 오차\n",
    "    \n",
    "    t_values = weights / std_err\n",
    "    p_values = 2 * (1 - stats.t.cdf(np.abs(t_values), df=n-p))\n",
    "    \n",
    "    conf_int = np.column_stack([\n",
    "        weights - 1.96 * std_err, \n",
    "        weights + 1.96 * std_err  \n",
    "    ])\n",
    "        \n",
    "    params_data = pd.DataFrame({\n",
    "        \"coef\": np.append(bias, weights),\n",
    "        \"std err\": std_err, \n",
    "        \"t\": t_values,\n",
    "        \"P>|t|\": p_values,  \n",
    "        \"[0.025\": conf_int[:,0],\n",
    "        \"0.975]\": conf_int[:,1]\n",
    "    }, index = ['const', 'X1'])\n",
    "    \n",
    "    smry.add_df(params_data)\n",
    "    \n",
    "    # evaluation\n",
    "    mse = mean_squared_error(y, predicted)\n",
    "    r2 = r2_score(y, predicted)\n",
    "    \n",
    "    additional_info = [\n",
    "        ('MSE:', f\"{mse:.4f}\"),\n",
    "        ('R-squared:', f\"{r2:.4f}\")\n",
    "    ]\n",
    "    \n",
    "    # residual_test\n",
    "    jb_test = jarque_bera(residuals)\n",
    "    dw_test = durbin_watson(residuals)\n",
    "    bp_test = het_breuschpagan(residuals, X)\n",
    "    lb_test = acorr_ljungbox(residuals, lags=[1], return_df=True)\n",
    "    \n",
    "    residual_tests = [\n",
    "        ('Jarque-Bera Test:', f\"{jb_test.statistic:.2f}\"), \n",
    "        ('Prob(JB):', f\"{jb_test.pvalue:.2f}\"), \n",
    "        ('Skew:', f\"{skew(residuals):.2f}\"), \n",
    "        ('Kurtosis:', f\"{kurtosis(residuals):.2f}\"), \n",
    "        ('Durbin-Watson:', f\"{dw_test:.2f}\"),\n",
    "        ('Breusch-Pagan Test:', f\"{bp_test[0]:.2f}\"),\n",
    "        ('Prob(H):', f\"{bp_test[1]:.2f}\")\n",
    "    ]\n",
    "    \n",
    "    smry.add_dict(dict(residual_tests))\n",
    "    smry.title = 'LinearNet Regression Results'\n",
    "    \n",
    "    return smry"
   ],
   "id": "1c4dd62c7908cff",
   "outputs": [],
   "execution_count": 89
  },
  {
   "metadata": {
    "ExecuteTime": {
     "end_time": "2024-09-23T16:20:37.459039Z",
     "start_time": "2024-09-23T16:20:37.445059Z"
    }
   },
   "cell_type": "code",
   "source": "smry = summary(model, X, y, residuals)",
   "id": "bde56d43462f8fcb",
   "outputs": [],
   "execution_count": 87
  },
  {
   "metadata": {
    "ExecuteTime": {
     "end_time": "2024-09-23T16:20:37.843359Z",
     "start_time": "2024-09-23T16:20:37.833156Z"
    }
   },
   "cell_type": "code",
   "source": "print(smry)",
   "id": "ccd08e79a757c9ce",
   "outputs": [
    {
     "name": "stdout",
     "output_type": "stream",
     "text": [
      "               LinearNet Regression Results\n",
      "==========================================================\n",
      "Dep. Variable:    predicted        Log Likelihood -134.812\n",
      "Model:            LinearNet        AIC            273.625 \n",
      "Date:             Tue, 24 Sep 2024 BIC            278.835 \n",
      "Time:             01:20:37         HQIC           275.734 \n",
      "Sample:           100              n_cols         2.0000  \n",
      "No. Observations: 100                                     \n",
      "-----------------------------------------------------------\n",
      "            coef   std err     t     P>|t|   [0.025  0.975]\n",
      "-----------------------------------------------------------\n",
      "Intercept  1.9469   0.0933  29.9919  0.0000  2.6163  2.9821\n",
      "X1         2.7992   0.0864  32.4152  0.0000  2.6299  2.9685\n",
      "----------------------------------------------------------\n",
      "Jarque-Bera Test:     2.25     Durbin-Watson:         1.80\n",
      "Prob(JB):             0.33     Breusch-Pagan Test:    1.54\n",
      "Skew:                 0.24     Prob(H):               0.21\n",
      "Kurtosis:             -0.56                               \n",
      "==========================================================\n",
      "\n"
     ]
    }
   ],
   "execution_count": 88
  },
  {
   "metadata": {},
   "cell_type": "code",
   "outputs": [],
   "execution_count": null,
   "source": "",
   "id": "fee28ad1256af4ba"
  }
 ],
 "metadata": {
  "kernelspec": {
   "display_name": "Python 3",
   "language": "python",
   "name": "python3"
  },
  "language_info": {
   "codemirror_mode": {
    "name": "ipython",
    "version": 2
   },
   "file_extension": ".py",
   "mimetype": "text/x-python",
   "name": "python",
   "nbconvert_exporter": "python",
   "pygments_lexer": "ipython2",
   "version": "2.7.6"
  }
 },
 "nbformat": 4,
 "nbformat_minor": 5
}
